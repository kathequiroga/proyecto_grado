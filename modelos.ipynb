{
 "cells": [
  {
   "cell_type": "markdown",
   "id": "3cc765ce",
   "metadata": {},
   "source": [
    "### Cargar datos"
   ]
  },
  {
   "cell_type": "code",
   "execution_count": null,
   "id": "434d2eba",
   "metadata": {},
   "outputs": [],
   "source": [
    "import pandas as pd\n",
    "datos = pd.read_csv('titulos_procesados.csv', encoding='ISO-8859-1', delimiter=',')\n",
    "datos.head()"
   ]
  },
  {
   "cell_type": "markdown",
   "id": "ffc23ef6",
   "metadata": {},
   "source": [
    "# Representación vectorial"
   ]
  },
  {
   "cell_type": "markdown",
   "id": "32ed51af",
   "metadata": {},
   "source": [
    "#### Bolsa de palabras (BoW)"
   ]
  },
  {
   "cell_type": "code",
   "execution_count": null,
   "id": "804fb275",
   "metadata": {},
   "outputs": [],
   "source": [
    "from sklearn.feature_extraction.text import CountVectorizer\n",
    "\n",
    "titulox = datos[\"title\"].tolist()\n",
    "vectorizer = CountVectorizer(min_df=2)\n",
    "matriz_bow = vectorizer.fit_transform(titulox)\n",
    "\n",
    "bow = pd.DataFrame(matriz_bow.toarray(), columns=vectorizer.get_feature_names_out())\n",
    "bow.head()"
   ]
  },
  {
   "cell_type": "markdown",
   "id": "da707bb3",
   "metadata": {},
   "source": [
    "#### Frecuencia de término – frecuencia inversa de documento (TF-IDF)"
   ]
  },
  {
   "cell_type": "code",
   "execution_count": null,
   "id": "a890078a",
   "metadata": {},
   "outputs": [],
   "source": [
    "from sklearn.feature_extraction.text import TfidfVectorizer\n",
    "\n",
    "tfidf_vectorizer = TfidfVectorizer(min_df=2)\n",
    "tfidf_matrix = tfidf_vectorizer.fit_transform(datos['title'])\n",
    "feature_names = tfidf_vectorizer.get_feature_names_out()\n",
    "tfidf = pd.DataFrame(tfidf_matrix.toarray(), columns=feature_names)\n",
    "print(tfidf.head())"
   ]
  },
  {
   "cell_type": "markdown",
   "id": "e45aa32a",
   "metadata": {},
   "source": [
    "## Selección de variables"
   ]
  },
  {
   "cell_type": "markdown",
   "id": "70b22aaf",
   "metadata": {},
   "source": [
    "#### Seleccionar de acuerdo a la importancia de las variables según modelo Random Forest"
   ]
  },
  {
   "cell_type": "code",
   "execution_count": null,
   "id": "0f721494",
   "metadata": {},
   "outputs": [],
   "source": [
    "from sklearn.ensemble import RandomForestClassifier\n",
    "import numpy as np\n",
    "\n",
    "# Crear un modelo de clasificación de bosque aleatorio\n",
    "model = RandomForestClassifier()\n",
    "model.fit(bow, datos[\"classification\"]) #tomando como referencia BoW\n",
    "\n",
    "# Obtener la importancia de las características\n",
    "importancia = model.feature_importances_\n",
    "\n",
    "# Ordenar las características por su importancia\n",
    "indices = np.argsort(importancia)[::-1][:4000]\n",
    "X_selected = bow.iloc[:, indices] #toma las variables importantes\n",
    "\n",
    "titulox = datos[\"title\"]\n",
    "vectorizer = CountVectorizer(vocabulary=X_selected)\n",
    "matriz_bow = vectorizer.fit_transform(titulox)\n",
    "bowrf = pd.DataFrame(matriz_bow.toarray(), columns=vectorizer.get_feature_names_out())\n",
    "print(bowrf.head())"
   ]
  },
  {
   "cell_type": "markdown",
   "id": "d94b90a2",
   "metadata": {},
   "source": [
    "#### Principal component analysis (PCA)"
   ]
  },
  {
   "cell_type": "code",
   "execution_count": null,
   "id": "2b4023b0",
   "metadata": {},
   "outputs": [],
   "source": [
    "from sklearn.decomposition import PCA\n",
    "import matplotlib.pyplot as plt\n",
    "import numpy as np\n",
    "\n",
    "pca = PCA()\n",
    "pca.fit(bow) #tomando como referencia bag of words\n",
    "\n",
    "# Varianza explicada acumulada\n",
    "cumulative_variance_ratio = np.cumsum(pca.explained_variance_ratio_)\n",
    "\n",
    "# Graficar la varianza explicada acumulada\n",
    "plt.figure()\n",
    "plt.plot(range(1, len(cumulative_variance_ratio) + 1), cumulative_variance_ratio, marker='o', linestyle='--')\n",
    "plt.xlabel('Número de Componentes')\n",
    "plt.ylabel('Varianza Explicada Acumulada')\n",
    "plt.title('Varianza Explicada Acumulada por Número de Componentes')\n",
    "plt.show()"
   ]
  },
  {
   "cell_type": "code",
   "execution_count": null,
   "id": "4794217e",
   "metadata": {},
   "outputs": [],
   "source": [
    "# Aplicar PCA\n",
    "from sklearn.decomposition import PCA\n",
    "pca = PCA(n_components=3000)  # Número de componentes principales a retener\n",
    "X_pca = pca.fit_transform(bow)\n",
    "principal_components = pd.DataFrame(data=X_pca)\n",
    "final_df = pd.concat([principal_components, pd.Series(datos[\"classification\"], name='target')], axis=1)\n",
    "\n",
    "# Visualizar los resultados\n",
    "print(final_df.head())"
   ]
  },
  {
   "cell_type": "markdown",
   "id": "54c20b4d",
   "metadata": {},
   "source": [
    "### Dividir datos en entrenamiento y prueba"
   ]
  },
  {
   "cell_type": "code",
   "execution_count": null,
   "id": "4cc38019",
   "metadata": {},
   "outputs": [],
   "source": [
    "from sklearn.model_selection import train_test_split\n",
    "\n",
    "info = bow #Si pruebo BoW\n",
    "#info = tfidf #Si pruebo TF-IDF\n",
    "#info = principal_components #Si pruebo PCA\n",
    "#info = bowrf #Si pruebo importancia con RF\n",
    "\n",
    "X_train, X_test, y_train, y_test = train_test_split(info, datos[\"classification\"], test_size = 0.1, random_state=70)"
   ]
  },
  {
   "cell_type": "markdown",
   "id": "7c8e165c",
   "metadata": {},
   "source": [
    "# Modelos utilizados"
   ]
  },
  {
   "cell_type": "markdown",
   "id": "ec29dbac",
   "metadata": {},
   "source": [
    "### Búsqueda de hiperparámetros"
   ]
  },
  {
   "cell_type": "code",
   "execution_count": null,
   "id": "0ddd2fa0",
   "metadata": {},
   "outputs": [],
   "source": [
    "# Random Forest\n",
    "\n",
    "from sklearn.ensemble import RandomForestClassifier\n",
    "from sklearn.model_selection import GridSearchCV\n",
    "\n",
    "modelo_rf = RandomForestClassifier(n_estimators=100, random_state=42)\n",
    "\n",
    "param_grid = {\n",
    "    'n_estimators': [100, 200],\n",
    "    'max_depth': [None, 10, 20],\n",
    "    'min_samples_split': [2, 5]\n",
    "}\n",
    "\n",
    "grid_search = GridSearchCV(estimator=modelo_rf, param_grid=param_grid, scoring='accuracy', cv=5)\n",
    "grid_search.fit(X_train, y_train)\n",
    "mejores_hiperparametros = grid_search.best_params_\n",
    "print(mejores_hiperparametros)"
   ]
  },
  {
   "cell_type": "code",
   "execution_count": null,
   "id": "8165f543",
   "metadata": {},
   "outputs": [],
   "source": [
    "# Regresión logística\n",
    "\n",
    "from sklearn.linear_model import LogisticRegression\n",
    "modelorl = LogisticRegression(multi_class='multinomial', C= 0.1, max_iter= 100, penalty= 'l2', solver= 'lbfgs')\n",
    "\n",
    "param_grid = {\n",
    "    'C': [0.001, 0.01, 0.1, 1, 10],  \n",
    "    'penalty': ['l1', 'l2'],  \n",
    "    'solver': ['lbfgs', 'liblinear'],  \n",
    "    'max_iter': [100, 500, 1000]  \n",
    "}\n",
    "\n",
    "grid_search = GridSearchCV(estimator=modelorl, param_grid=param_grid, scoring='accuracy', cv=5)\n",
    "grid_search.fit(X_train, y_train)\n",
    "\n",
    "mejores_hiperparametros = grid_search.best_params_\n",
    "print(mejores_hiperparametros)"
   ]
  },
  {
   "cell_type": "code",
   "execution_count": null,
   "id": "6341a5fd",
   "metadata": {},
   "outputs": [],
   "source": [
    "# Support vector machine\n",
    "\n",
    "from sklearn.svm import SVC\n",
    "modelo_svm = SVC(decision_function_shape='ovr')\n",
    "\n",
    "param_grid = {\n",
    "    'C': [0.001, 0.01, 0.1, 1, 10],\n",
    "    'kernel': ['linear', 'rbf', 'poly']\n",
    "}\n",
    "\n",
    "grid_search = GridSearchCV(estimator=modelo_svm, param_grid=param_grid, scoring='accuracy', cv=5)\n",
    "grid_search.fit(X_train, y_train)\n",
    "\n",
    "mejores_hiperparametros = grid_search.best_params_\n",
    "print(mejores_hiperparametros)"
   ]
  },
  {
   "cell_type": "code",
   "execution_count": null,
   "id": "ea6ab29d",
   "metadata": {},
   "outputs": [],
   "source": [
    "# Naive Bayes\n",
    "\n",
    "from sklearn.naive_bayes import MultinomialNB\n",
    "\n",
    "param_grid = {\n",
    "    'alpha': [0.1, 0.5, 1.0, 2.0, 5.0]\n",
    "}\n",
    "\n",
    "grid_search = GridSearchCV(estimator=MultinomialNB(), param_grid=param_grid, scoring='accuracy', cv=5)\n",
    "grid_search.fit(X2_train, y2_train)\n",
    "mejor_alpha = grid_search.best_params_['alpha']\n",
    "print(mejor_alpha)"
   ]
  },
  {
   "cell_type": "markdown",
   "id": "626bce55",
   "metadata": {},
   "source": [
    "### Medir el desempeño de los modelos "
   ]
  },
  {
   "cell_type": "code",
   "execution_count": null,
   "id": "7604e5be",
   "metadata": {},
   "outputs": [],
   "source": [
    "# Random Forest\n",
    "\n",
    "from sklearn.ensemble import RandomForestClassifier\n",
    "from sklearn.metrics import accuracy_score\n",
    "\n",
    "modelo_rf = RandomForestClassifier(max_depth= None, min_samples_split= 5, n_estimators= 200)\n",
    "modelo_rf.fit(X_train, y_train)\n",
    "\n",
    "y_pred = modelo_rf.predict(X_test)\n",
    "accuracy = accuracy_score(y_test, y_pred)\n",
    "print(accuracy)"
   ]
  },
  {
   "cell_type": "code",
   "execution_count": null,
   "id": "9048a9d4",
   "metadata": {},
   "outputs": [],
   "source": [
    "# Regresión logística multinomial\n",
    "\n",
    "from sklearn.linear_model import LogisticRegression\n",
    "\n",
    "modelrl = LogisticRegression(C= 0.1, max_iter= 100, penalty= 'l2', solver= 'lbfgs', multi_class='multinomial')\n",
    "modelrl.fit(X_train, y_train)\n",
    "y_pred = modelrl.predict(X_test)\n",
    "accuracy = accuracy_score(y_test, y_pred)\n",
    "print(accuracy)"
   ]
  },
  {
   "cell_type": "code",
   "execution_count": null,
   "id": "cb00b773",
   "metadata": {},
   "outputs": [],
   "source": [
    "# Regresión logística ovr\n",
    "\n",
    "from sklearn.linear_model import LogisticRegression\n",
    "from sklearn.multiclass import OneVsRestClassifier\n",
    "from sklearn.metrics import accuracy_score\n",
    "\n",
    "modelrl = LogisticRegression(C= 0.1, max_iter= 100, penalty= 'l2', solver= 'lbfgs', multi_class='ovr')\n",
    "modelrl.fit(X_train, y_train)\n",
    "y_pred = modelrl.predict(X_test)\n",
    "accuracy = accuracy_score(y_test, y_pred)\n",
    "print(accuracy)"
   ]
  },
  {
   "cell_type": "code",
   "execution_count": null,
   "id": "f1722e3b",
   "metadata": {},
   "outputs": [],
   "source": [
    "# Support vector machine (kernel lineal)\n",
    "\n",
    "from sklearn.svm import SVC\n",
    "\n",
    "modelo_svm = SVC(kernel='linear', C=0.1, decision_function_shape='ovr') \n",
    "modelo_svm.fit(X_train, y_train)\n",
    "y_pred = modelo_svm.predict(X_test)\n",
    "accuracy = accuracy_score(y_test, y_pred)\n",
    "print(accuracy)"
   ]
  },
  {
   "cell_type": "code",
   "execution_count": null,
   "id": "1f7b1dc0",
   "metadata": {},
   "outputs": [],
   "source": [
    "# Support vector machine (kernel polinómico)\n",
    "modelo_svm = SVC(kernel='poly', C=0.1, decision_function_shape='ovr') \n",
    "modelo_svm.fit(X_train, y_train)\n",
    "y_pred = modelo_svm.predict(X_test)\n",
    "accuracy = accuracy_score(y_test, y_pred)\n",
    "print(accuracy)"
   ]
  },
  {
   "cell_type": "code",
   "execution_count": null,
   "id": "f832fe92",
   "metadata": {},
   "outputs": [],
   "source": [
    "# Support vector machine (kernel radial)\n",
    "modelo_svm = SVC(kernel='rbf', C=0.1, decision_function_shape='ovr') \n",
    "modelo_svm.fit(X_train, y_train)\n",
    "y_pred = modelo_svm.predict(X_test)\n",
    "accuracy = accuracy_score(y_test, y_pred)\n",
    "print(accuracy)"
   ]
  },
  {
   "cell_type": "code",
   "execution_count": null,
   "id": "f7266802",
   "metadata": {},
   "outputs": [],
   "source": [
    "# Naive Bayes\n",
    "\n",
    "from sklearn.naive_bayes import MultinomialNB\n",
    "\n",
    "modelo_nb = MultinomialNB()\n",
    "modelo_nb.fit(X_train, y_train)\n",
    "y_pred = modelo_nb.predict(X_test)\n",
    "accuracy = accuracy_score(y_test, y_pred)\n",
    "print(accuracy)"
   ]
  }
 ],
 "metadata": {
  "kernelspec": {
   "display_name": "Python 3 (ipykernel)",
   "language": "python",
   "name": "python3"
  },
  "language_info": {
   "codemirror_mode": {
    "name": "ipython",
    "version": 3
   },
   "file_extension": ".py",
   "mimetype": "text/x-python",
   "name": "python",
   "nbconvert_exporter": "python",
   "pygments_lexer": "ipython3",
   "version": "3.11.5"
  }
 },
 "nbformat": 4,
 "nbformat_minor": 5
}
